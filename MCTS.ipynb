{
 "cells": [
  {
   "cell_type": "code",
   "execution_count": 1,
   "metadata": {},
   "outputs": [],
   "source": [
    "from Game.GameLogic import Board\n",
    "from random import choice as randchoice\n",
    "import numpy as np\n",
    "from copy import deepcopy as copy\n",
    "from tqdm import tqdm_notebook as tqdm\n",
    "import pickle,math\n",
    "import time"
   ]
  },
  {
   "cell_type": "code",
   "execution_count": 2,
   "metadata": {},
   "outputs": [],
   "source": [
    "def one_search(board,color):\n",
    "    b=copy(board)\n",
    "    current_color=copy(color)\n",
    "    while not b.finished:\n",
    "        move=randchoice(b.get_legal_moves(current_color))\n",
    "    #         print(move+1)\n",
    "        b.execute_move(move,current_color)\n",
    "        current_color*=-1\n",
    "    return b.winner\n",
    "\n",
    "def search_one_move(board,move,color,times):\n",
    "    b=copy(board)\n",
    "    current_color=copy(color)\n",
    "    b.execute_move(move,current_color)\n",
    "    return sum([one_search(b,-current_color) for i in range(times)])\n",
    "\n",
    "def search_next(board,color,times):\n",
    "    time_start=time.time()\n",
    "    moves=board.get_legal_moves(color)\n",
    "    times_each=times//len(moves)\n",
    "    print('search {} times for each move.'.format(times_each))\n",
    "    move_value=[None]*len(moves)\n",
    "    for i in tqdm(range(len(moves))):\n",
    "        move_value[i]=search_one_move(board,moves[i],color,times_each)\n",
    "    time_end=time.time()\n",
    "    print('time cost',time_end-time_start,'s')\n",
    "    return np.array(move_value)"
   ]
  },
  {
   "cell_type": "code",
   "execution_count": 213,
   "metadata": {},
   "outputs": [],
   "source": [
    "def search(board,color):\n",
    "    \"\"\"\n",
    "    This function performs one iteration of MCTS. It is recursively called\n",
    "    till a leaf node is found. The action chosen at each node is one that\n",
    "    has the maximum upper confidence bound as in the paper.\n",
    "\n",
    "    Once a leaf node is found, the neural network is called to return an\n",
    "    initial policy P and a value v for the state. This value is propogated\n",
    "    up the search path. In case the leaf node is a terminal state, the\n",
    "    outcome is propogated up the search path. The values of Ns, Nsa, Qsa are\n",
    "    updated.\n",
    "\n",
    "    NOTE: the return values are the negative of the value of the current\n",
    "    state. This is done since v is in [-1,1] and if v is the value of a\n",
    "    state for the current player, then its value is -v for the other player.\n",
    "\n",
    "    Returns:\n",
    "        v: the negative of the value of the current canonicalBoard / the previous move\n",
    "    \"\"\"\n",
    "\n",
    "    s = board.tostring()\n",
    "    times=10\n",
    "    # terminal node : return the value of the game\n",
    "    if board.finished:\n",
    "        return -board.winner*color # the negative of the value of the previous move\n",
    "\n",
    "    # leaf node : return the value given by the nnet\n",
    "    if s not in Qs:\n",
    "#         rand = one_search(board,color) # color : the color of the next move\n",
    "\n",
    "        rand = sum([one_search(board,color) for i in range(times)])\n",
    "        v = rand*color # the value of the next color\n",
    "#         print('search result : {}, color : {}'.format(rand,color))\n",
    "        Qs[s] = -v # Qs : the value of the previous move\n",
    "        Ns[s] = times\n",
    "        return -v\n",
    "\n",
    "    # non-leaf node\n",
    "    cur_best = -float('inf')\n",
    "    best_move = []\n",
    "\n",
    "    # pick the action with the highest upper confidence bound\n",
    "#     print('legal moves : {}'.format(board.get_legal_moves(color)))\n",
    "    for move in board.get_legal_moves(color):\n",
    "#         print(move)\n",
    "        smove=copy(board).execute_move(move,color).tostring()\n",
    "        if smove in Ns:\n",
    "            u = Qs[smove]/Ns[smove] + cpuct*math.sqrt(2*math.log(Ns[s])/Ns[smove])\n",
    "        else:\n",
    "            best_move=move\n",
    "            break\n",
    "            \n",
    "        if u > cur_best:\n",
    "            cur_best = u\n",
    "            best_move = move\n",
    "#         print('current move : {}, u : {}, best_move : {}'.format(move,u,best_move))\n",
    "    if len(best_move)!=0:\n",
    "        board_next=copy(board).execute_move(best_move,color)\n",
    "    else:\n",
    "        raise Exception('no best action found!')\n",
    "#     print('best_move : {} , current color : {}'.format(best_move,color))\n",
    "\n",
    "    # next recursion\n",
    "    v = search(board_next,-color) # the value of the current color\n",
    "    \n",
    "    # back propagation for non-leaf node\n",
    "    Qs[s]-=v # Qs : the value of the previous move\n",
    "    Ns[s]+=times\n",
    "    return -v\n"
   ]
  },
  {
   "cell_type": "code",
   "execution_count": 214,
   "metadata": {},
   "outputs": [],
   "source": [
    "b=Board(9)\n",
    "current_color=1\n",
    "Qs={}\n",
    "Ns={}\n",
    "cpuct=1"
   ]
  },
  {
   "cell_type": "code",
   "execution_count": 302,
   "metadata": {},
   "outputs": [
    {
     "data": {
      "application/vnd.jupyter.widget-view+json": {
       "model_id": "4bd3377f4ae9411bbb5912a64710c263",
       "version_major": 2,
       "version_minor": 0
      },
      "text/plain": [
       "HBox(children=(IntProgress(value=0, max=40), HTML(value='')))"
      ]
     },
     "metadata": {},
     "output_type": "display_data"
    },
    {
     "name": "stdout",
     "output_type": "stream",
     "text": [
      "\n"
     ]
    },
    {
     "ename": "KeyboardInterrupt",
     "evalue": "",
     "output_type": "error",
     "traceback": [
      "\u001b[1;31m---------------------------------------------------------------------------\u001b[0m",
      "\u001b[1;31mKeyboardInterrupt\u001b[0m                         Traceback (most recent call last)",
      "\u001b[1;32m<ipython-input-302-dc518c410963>\u001b[0m in \u001b[0;36m<module>\u001b[1;34m()\u001b[0m\n\u001b[0;32m      1\u001b[0m \u001b[1;32mfor\u001b[0m \u001b[0mi\u001b[0m \u001b[1;32min\u001b[0m \u001b[0mtqdm\u001b[0m\u001b[1;33m(\u001b[0m\u001b[0mrange\u001b[0m\u001b[1;33m(\u001b[0m\u001b[1;36m40\u001b[0m\u001b[1;33m)\u001b[0m\u001b[1;33m)\u001b[0m\u001b[1;33m:\u001b[0m\u001b[1;33m\u001b[0m\u001b[0m\n\u001b[0;32m      2\u001b[0m     \u001b[1;32mfor\u001b[0m \u001b[0mj\u001b[0m \u001b[1;32min\u001b[0m \u001b[0mrange\u001b[0m\u001b[1;33m(\u001b[0m\u001b[1;36m100\u001b[0m\u001b[1;33m)\u001b[0m\u001b[1;33m:\u001b[0m\u001b[1;33m\u001b[0m\u001b[0m\n\u001b[1;32m----> 3\u001b[1;33m         \u001b[0msearch\u001b[0m\u001b[1;33m(\u001b[0m\u001b[0mb\u001b[0m\u001b[1;33m,\u001b[0m\u001b[0mcurrent_color\u001b[0m\u001b[1;33m)\u001b[0m\u001b[1;33m\u001b[0m\u001b[0m\n\u001b[0m",
      "\u001b[1;32m<ipython-input-213-74ad1f3c9904>\u001b[0m in \u001b[0;36msearch\u001b[1;34m(board, color)\u001b[0m\n\u001b[0;32m     60\u001b[0m \u001b[1;33m\u001b[0m\u001b[0m\n\u001b[0;32m     61\u001b[0m     \u001b[1;31m# next recursive\u001b[0m\u001b[1;33m\u001b[0m\u001b[1;33m\u001b[0m\u001b[0m\n\u001b[1;32m---> 62\u001b[1;33m     \u001b[0mv\u001b[0m \u001b[1;33m=\u001b[0m \u001b[0msearch\u001b[0m\u001b[1;33m(\u001b[0m\u001b[0mboard_next\u001b[0m\u001b[1;33m,\u001b[0m\u001b[1;33m-\u001b[0m\u001b[0mcolor\u001b[0m\u001b[1;33m)\u001b[0m \u001b[1;31m# the value of the current color\u001b[0m\u001b[1;33m\u001b[0m\u001b[0m\n\u001b[0m\u001b[0;32m     63\u001b[0m \u001b[1;33m\u001b[0m\u001b[0m\n\u001b[0;32m     64\u001b[0m     \u001b[1;31m# back propagation for non-leaf node\u001b[0m\u001b[1;33m\u001b[0m\u001b[1;33m\u001b[0m\u001b[0m\n",
      "\u001b[1;32m<ipython-input-213-74ad1f3c9904>\u001b[0m in \u001b[0;36msearch\u001b[1;34m(board, color)\u001b[0m\n\u001b[0;32m     60\u001b[0m \u001b[1;33m\u001b[0m\u001b[0m\n\u001b[0;32m     61\u001b[0m     \u001b[1;31m# next recursive\u001b[0m\u001b[1;33m\u001b[0m\u001b[1;33m\u001b[0m\u001b[0m\n\u001b[1;32m---> 62\u001b[1;33m     \u001b[0mv\u001b[0m \u001b[1;33m=\u001b[0m \u001b[0msearch\u001b[0m\u001b[1;33m(\u001b[0m\u001b[0mboard_next\u001b[0m\u001b[1;33m,\u001b[0m\u001b[1;33m-\u001b[0m\u001b[0mcolor\u001b[0m\u001b[1;33m)\u001b[0m \u001b[1;31m# the value of the current color\u001b[0m\u001b[1;33m\u001b[0m\u001b[0m\n\u001b[0m\u001b[0;32m     63\u001b[0m \u001b[1;33m\u001b[0m\u001b[0m\n\u001b[0;32m     64\u001b[0m     \u001b[1;31m# back propagation for non-leaf node\u001b[0m\u001b[1;33m\u001b[0m\u001b[1;33m\u001b[0m\u001b[0m\n",
      "\u001b[1;32m<ipython-input-213-74ad1f3c9904>\u001b[0m in \u001b[0;36msearch\u001b[1;34m(board, color)\u001b[0m\n\u001b[0;32m     60\u001b[0m \u001b[1;33m\u001b[0m\u001b[0m\n\u001b[0;32m     61\u001b[0m     \u001b[1;31m# next recursive\u001b[0m\u001b[1;33m\u001b[0m\u001b[1;33m\u001b[0m\u001b[0m\n\u001b[1;32m---> 62\u001b[1;33m     \u001b[0mv\u001b[0m \u001b[1;33m=\u001b[0m \u001b[0msearch\u001b[0m\u001b[1;33m(\u001b[0m\u001b[0mboard_next\u001b[0m\u001b[1;33m,\u001b[0m\u001b[1;33m-\u001b[0m\u001b[0mcolor\u001b[0m\u001b[1;33m)\u001b[0m \u001b[1;31m# the value of the current color\u001b[0m\u001b[1;33m\u001b[0m\u001b[0m\n\u001b[0m\u001b[0;32m     63\u001b[0m \u001b[1;33m\u001b[0m\u001b[0m\n\u001b[0;32m     64\u001b[0m     \u001b[1;31m# back propagation for non-leaf node\u001b[0m\u001b[1;33m\u001b[0m\u001b[1;33m\u001b[0m\u001b[0m\n",
      "\u001b[1;32m<ipython-input-213-74ad1f3c9904>\u001b[0m in \u001b[0;36msearch\u001b[1;34m(board, color)\u001b[0m\n\u001b[0;32m     60\u001b[0m \u001b[1;33m\u001b[0m\u001b[0m\n\u001b[0;32m     61\u001b[0m     \u001b[1;31m# next recursive\u001b[0m\u001b[1;33m\u001b[0m\u001b[1;33m\u001b[0m\u001b[0m\n\u001b[1;32m---> 62\u001b[1;33m     \u001b[0mv\u001b[0m \u001b[1;33m=\u001b[0m \u001b[0msearch\u001b[0m\u001b[1;33m(\u001b[0m\u001b[0mboard_next\u001b[0m\u001b[1;33m,\u001b[0m\u001b[1;33m-\u001b[0m\u001b[0mcolor\u001b[0m\u001b[1;33m)\u001b[0m \u001b[1;31m# the value of the current color\u001b[0m\u001b[1;33m\u001b[0m\u001b[0m\n\u001b[0m\u001b[0;32m     63\u001b[0m \u001b[1;33m\u001b[0m\u001b[0m\n\u001b[0;32m     64\u001b[0m     \u001b[1;31m# back propagation for non-leaf node\u001b[0m\u001b[1;33m\u001b[0m\u001b[1;33m\u001b[0m\u001b[0m\n",
      "\u001b[1;32m<ipython-input-213-74ad1f3c9904>\u001b[0m in \u001b[0;36msearch\u001b[1;34m(board, color)\u001b[0m\n\u001b[0;32m     27\u001b[0m     \u001b[1;31m# leaf node : return the value given by the nnet\u001b[0m\u001b[1;33m\u001b[0m\u001b[1;33m\u001b[0m\u001b[0m\n\u001b[0;32m     28\u001b[0m     \u001b[1;32mif\u001b[0m \u001b[0ms\u001b[0m \u001b[1;32mnot\u001b[0m \u001b[1;32min\u001b[0m \u001b[0mQs\u001b[0m\u001b[1;33m:\u001b[0m\u001b[1;33m\u001b[0m\u001b[0m\n\u001b[1;32m---> 29\u001b[1;33m         \u001b[0mrand\u001b[0m \u001b[1;33m=\u001b[0m \u001b[0mone_search\u001b[0m\u001b[1;33m(\u001b[0m\u001b[0mboard\u001b[0m\u001b[1;33m,\u001b[0m\u001b[0mcolor\u001b[0m\u001b[1;33m)\u001b[0m \u001b[1;31m# color : the color of the next move\u001b[0m\u001b[1;33m\u001b[0m\u001b[0m\n\u001b[0m\u001b[0;32m     30\u001b[0m         \u001b[0mv\u001b[0m \u001b[1;33m=\u001b[0m \u001b[0mrand\u001b[0m\u001b[1;33m*\u001b[0m\u001b[0mcolor\u001b[0m \u001b[1;31m# the value of the next color\u001b[0m\u001b[1;33m\u001b[0m\u001b[0m\n\u001b[0;32m     31\u001b[0m \u001b[1;31m#         print('search result : {}, color : {}'.format(rand,color))\u001b[0m\u001b[1;33m\u001b[0m\u001b[1;33m\u001b[0m\u001b[0m\n",
      "\u001b[1;32m<ipython-input-2-1ab4be258a4e>\u001b[0m in \u001b[0;36mone_search\u001b[1;34m(board, color)\u001b[0m\n\u001b[0;32m      3\u001b[0m     \u001b[0mcurrent_color\u001b[0m\u001b[1;33m=\u001b[0m\u001b[0mcopy\u001b[0m\u001b[1;33m(\u001b[0m\u001b[0mcolor\u001b[0m\u001b[1;33m)\u001b[0m\u001b[1;33m\u001b[0m\u001b[0m\n\u001b[0;32m      4\u001b[0m     \u001b[1;32mwhile\u001b[0m \u001b[1;32mnot\u001b[0m \u001b[0mb\u001b[0m\u001b[1;33m.\u001b[0m\u001b[0mfinished\u001b[0m\u001b[1;33m:\u001b[0m\u001b[1;33m\u001b[0m\u001b[0m\n\u001b[1;32m----> 5\u001b[1;33m         \u001b[0mmove\u001b[0m\u001b[1;33m=\u001b[0m\u001b[0mrandchoice\u001b[0m\u001b[1;33m(\u001b[0m\u001b[0mb\u001b[0m\u001b[1;33m.\u001b[0m\u001b[0mget_legal_moves\u001b[0m\u001b[1;33m(\u001b[0m\u001b[0mcurrent_color\u001b[0m\u001b[1;33m)\u001b[0m\u001b[1;33m)\u001b[0m\u001b[1;33m\u001b[0m\u001b[0m\n\u001b[0m\u001b[0;32m      6\u001b[0m     \u001b[1;31m#         print(move+1)\u001b[0m\u001b[1;33m\u001b[0m\u001b[1;33m\u001b[0m\u001b[0m\n\u001b[0;32m      7\u001b[0m         \u001b[0mb\u001b[0m\u001b[1;33m.\u001b[0m\u001b[0mexecute_move\u001b[0m\u001b[1;33m(\u001b[0m\u001b[0mmove\u001b[0m\u001b[1;33m,\u001b[0m\u001b[0mcurrent_color\u001b[0m\u001b[1;33m)\u001b[0m\u001b[1;33m\u001b[0m\u001b[0m\n",
      "\u001b[1;32mD:\\cygwin64\\home\\gyq\\git\\Alpha_uttt\\Game\\GameLogic.py\u001b[0m in \u001b[0;36mget_legal_moves\u001b[1;34m(self, color)\u001b[0m\n\u001b[0;32m     43\u001b[0m         \u001b[0msub_board\u001b[0m\u001b[1;33m=\u001b[0m\u001b[0mself\u001b[0m\u001b[1;33m.\u001b[0m\u001b[0mget_sub_board\u001b[0m\u001b[1;33m(\u001b[0m\u001b[0mself\u001b[0m\u001b[1;33m.\u001b[0m\u001b[0mactivation_zone\u001b[0m\u001b[1;33m)\u001b[0m\u001b[1;33m\u001b[0m\u001b[0m\n\u001b[0;32m     44\u001b[0m         \u001b[0mlegal_indices_sub\u001b[0m\u001b[1;33m=\u001b[0m\u001b[0mnp\u001b[0m\u001b[1;33m.\u001b[0m\u001b[0mwhere\u001b[0m\u001b[1;33m(\u001b[0m\u001b[0msub_board\u001b[0m\u001b[1;33m==\u001b[0m\u001b[1;36m0\u001b[0m\u001b[1;33m)\u001b[0m\u001b[1;33m\u001b[0m\u001b[0m\n\u001b[1;32m---> 45\u001b[1;33m         \u001b[1;32mreturn\u001b[0m \u001b[0mself\u001b[0m\u001b[1;33m.\u001b[0m\u001b[0mto_board_index\u001b[0m\u001b[1;33m(\u001b[0m\u001b[0mlegal_indices_sub\u001b[0m\u001b[1;33m,\u001b[0m\u001b[0mself\u001b[0m\u001b[1;33m.\u001b[0m\u001b[0mactivation_zone\u001b[0m\u001b[1;33m)\u001b[0m\u001b[1;33m.\u001b[0m\u001b[0mtranspose\u001b[0m\u001b[1;33m(\u001b[0m\u001b[1;33m)\u001b[0m\u001b[1;33m\u001b[0m\u001b[0m\n\u001b[0m\u001b[0;32m     46\u001b[0m \u001b[1;33m\u001b[0m\u001b[0m\n\u001b[0;32m     47\u001b[0m     \u001b[1;32mdef\u001b[0m \u001b[0mhas_legal_moves\u001b[0m\u001b[1;33m(\u001b[0m\u001b[0mself\u001b[0m\u001b[1;33m,\u001b[0m \u001b[0mcolor\u001b[0m\u001b[1;33m)\u001b[0m\u001b[1;33m:\u001b[0m\u001b[1;33m\u001b[0m\u001b[0m\n",
      "\u001b[1;32mD:\\cygwin64\\home\\gyq\\git\\Alpha_uttt\\Game\\GameLogic.py\u001b[0m in \u001b[0;36mto_board_index\u001b[1;34m(self, index_at_sub_board, sub_board_index)\u001b[0m\n\u001b[0;32m     92\u001b[0m         \u001b[0mindex_at_sub_board_x\u001b[0m\u001b[1;33m,\u001b[0m\u001b[0mindex_at_sub_board_y\u001b[0m\u001b[1;33m=\u001b[0m\u001b[0mindex_at_sub_board\u001b[0m\u001b[1;33m\u001b[0m\u001b[0m\n\u001b[0;32m     93\u001b[0m         \u001b[0msub_board_x\u001b[0m\u001b[1;33m,\u001b[0m\u001b[0msub_board_y\u001b[0m\u001b[1;33m=\u001b[0m\u001b[0msub_board_index\u001b[0m\u001b[1;33m\u001b[0m\u001b[0m\n\u001b[1;32m---> 94\u001b[1;33m         \u001b[1;32mreturn\u001b[0m \u001b[0mnp\u001b[0m\u001b[1;33m.\u001b[0m\u001b[0masarray\u001b[0m\u001b[1;33m(\u001b[0m\u001b[1;33m[\u001b[0m\u001b[0mindex_at_sub_board_x\u001b[0m\u001b[1;33m+\u001b[0m\u001b[1;36m3\u001b[0m\u001b[1;33m*\u001b[0m\u001b[0msub_board_x\u001b[0m\u001b[1;33m,\u001b[0m\u001b[0mindex_at_sub_board_y\u001b[0m\u001b[1;33m+\u001b[0m\u001b[1;36m3\u001b[0m\u001b[1;33m*\u001b[0m\u001b[0msub_board_y\u001b[0m\u001b[1;33m]\u001b[0m\u001b[1;33m,\u001b[0m\u001b[0mdtype\u001b[0m\u001b[1;33m=\u001b[0m\u001b[0mnp\u001b[0m\u001b[1;33m.\u001b[0m\u001b[0mint8\u001b[0m\u001b[1;33m)\u001b[0m\u001b[1;33m\u001b[0m\u001b[0m\n\u001b[0m\u001b[0;32m     95\u001b[0m \u001b[1;33m\u001b[0m\u001b[0m\n\u001b[0;32m     96\u001b[0m     \u001b[1;32mdef\u001b[0m \u001b[0mfill_test_pattern\u001b[0m\u001b[1;33m(\u001b[0m\u001b[0mself\u001b[0m\u001b[1;33m)\u001b[0m\u001b[1;33m:\u001b[0m\u001b[1;33m\u001b[0m\u001b[0m\n",
      "\u001b[1;32mD:\\ProgramData\\Anaconda3\\lib\\site-packages\\numpy\\core\\numeric.py\u001b[0m in \u001b[0;36masarray\u001b[1;34m(a, dtype, order)\u001b[0m\n\u001b[0;32m    490\u001b[0m \u001b[1;33m\u001b[0m\u001b[0m\n\u001b[0;32m    491\u001b[0m     \"\"\"\n\u001b[1;32m--> 492\u001b[1;33m     \u001b[1;32mreturn\u001b[0m \u001b[0marray\u001b[0m\u001b[1;33m(\u001b[0m\u001b[0ma\u001b[0m\u001b[1;33m,\u001b[0m \u001b[0mdtype\u001b[0m\u001b[1;33m,\u001b[0m \u001b[0mcopy\u001b[0m\u001b[1;33m=\u001b[0m\u001b[1;32mFalse\u001b[0m\u001b[1;33m,\u001b[0m \u001b[0morder\u001b[0m\u001b[1;33m=\u001b[0m\u001b[0morder\u001b[0m\u001b[1;33m)\u001b[0m\u001b[1;33m\u001b[0m\u001b[0m\n\u001b[0m\u001b[0;32m    493\u001b[0m \u001b[1;33m\u001b[0m\u001b[0m\n\u001b[0;32m    494\u001b[0m \u001b[1;33m\u001b[0m\u001b[0m\n",
      "\u001b[1;31mKeyboardInterrupt\u001b[0m: "
     ]
    }
   ],
   "source": [
    "for i in tqdm(range(40)):\n",
    "    for j in range(100):\n",
    "        search(b,current_color)"
   ]
  },
  {
   "cell_type": "code",
   "execution_count": 299,
   "metadata": {},
   "outputs": [
    {
     "name": "stdout",
     "output_type": "stream",
     "text": [
      "[7 5] 3218 -767\n",
      "[[ 347 3218  721  598]\n",
      " [-137 -767 -236 -205]]\n"
     ]
    }
   ],
   "source": [
    "Ns_list=[]\n",
    "Qs_list=[]\n",
    "for move in b.get_legal_moves(current_color):\n",
    "    s = copy(b).execute_move(move,current_color).tostring()\n",
    "    Ns_list.append(Ns[s])\n",
    "    Qs_list.append(Qs[s])\n",
    "max_move=np.array(Ns_list).argmax()\n",
    "next_move=b.get_legal_moves(current_color)[max_move]\n",
    "print(next_move+1,Ns_list[max_move],Qs_list[max_move])\n",
    "print(np.array([Ns_list,Qs_list]))"
   ]
  },
  {
   "cell_type": "code",
   "execution_count": 300,
   "metadata": {},
   "outputs": [],
   "source": [
    "b.execute_move(next_move,current_color)\n",
    "current_color*=-1"
   ]
  },
  {
   "cell_type": "code",
   "execution_count": 301,
   "metadata": {},
   "outputs": [],
   "source": [
    "b.execute_move(np.array([2,2])-1,current_color)\n",
    "current_color*=-1"
   ]
  },
  {
   "cell_type": "code",
   "execution_count": 289,
   "metadata": {},
   "outputs": [
    {
     "data": {
      "text/plain": [
       "array([[-1,  0, -1,  0,  0,  0,  0,  0,  1],\n",
       "       [ 0,  0,  0, -1, -1, -1,  0, -1,  0],\n",
       "       [ 1,  1,  0,  0,  0,  0,  1, -1,  1],\n",
       "       [ 0,  1,  0,  1,  1, -1,  1,  1,  0],\n",
       "       [ 0,  0,  0,  0, -1,  0,  0,  0,  0],\n",
       "       [ 0,  0, -1,  0,  1,  0,  0,  0,  0],\n",
       "       [ 0,  0, -1,  0,  0,  0, -1,  1,  0],\n",
       "       [ 0,  0, -1,  1,  0,  0,  0,  1,  0],\n",
       "       [ 0,  0, -1,  1, -1, -1,  1,  0,  0]], dtype=int8)"
      ]
     },
     "execution_count": 289,
     "metadata": {},
     "output_type": "execute_result"
    }
   ],
   "source": [
    "b.pieces"
   ]
  },
  {
   "cell_type": "code",
   "execution_count": 11,
   "metadata": {
    "scrolled": false
   },
   "outputs": [
    {
     "data": {
      "text/plain": [
       "{'[[0 0 0 0 0 0 0 0 0]\\n [0 0 0 0 0 0 0 0 0]\\n [0 0 0 0 0 0 0 0 0]\\n [0 0 0 0 0 0 0 0 0]\\n [0 0 0 0 0 0 0 0 0]\\n [0 0 0 0 0 0 0 0 0]\\n [0 0 0 0 0 0 0 0 0]\\n [0 0 0 0 0 0 0 0 0]\\n [0 0 0 0 0 0 0 0 0]]': -1}"
      ]
     },
     "execution_count": 11,
     "metadata": {},
     "output_type": "execute_result"
    }
   ],
   "source": [
    "Qs"
   ]
  },
  {
   "cell_type": "code",
   "execution_count": 12,
   "metadata": {},
   "outputs": [
    {
     "data": {
      "text/plain": [
       "{'[[0 0 0 0 0 0 0 0 0]\\n [0 0 0 0 0 0 0 0 0]\\n [0 0 0 0 0 0 0 0 0]\\n [0 0 0 0 0 0 0 0 0]\\n [0 0 0 0 0 0 0 0 0]\\n [0 0 0 0 0 0 0 0 0]\\n [0 0 0 0 0 0 0 0 0]\\n [0 0 0 0 0 0 0 0 0]\\n [0 0 0 0 0 0 0 0 0]]': 1}"
      ]
     },
     "execution_count": 12,
     "metadata": {},
     "output_type": "execute_result"
    }
   ],
   "source": [
    "Ns"
   ]
  },
  {
   "cell_type": "code",
   "execution_count": 13,
   "metadata": {},
   "outputs": [
    {
     "ename": "KeyError",
     "evalue": "'[[1 0 0 0 0 0 0 0 0]\\n [0 0 0 0 0 0 0 0 0]\\n [0 0 0 0 0 0 0 0 0]\\n [0 0 0 0 0 0 0 0 0]\\n [0 0 0 0 0 0 0 0 0]\\n [0 0 0 0 0 0 0 0 0]\\n [0 0 0 0 0 0 0 0 0]\\n [0 0 0 0 0 0 0 0 0]\\n [0 0 0 0 0 0 0 0 0]]'",
     "output_type": "error",
     "traceback": [
      "\u001b[1;31m---------------------------------------------------------------------------\u001b[0m",
      "\u001b[1;31mKeyError\u001b[0m                                  Traceback (most recent call last)",
      "\u001b[1;32m<ipython-input-13-671d8c3ca8df>\u001b[0m in \u001b[0;36m<module>\u001b[1;34m()\u001b[0m\n\u001b[0;32m      1\u001b[0m \u001b[1;32mfor\u001b[0m \u001b[0mmove\u001b[0m \u001b[1;32min\u001b[0m \u001b[0mb\u001b[0m\u001b[1;33m.\u001b[0m\u001b[0mget_legal_moves\u001b[0m\u001b[1;33m(\u001b[0m\u001b[0mcurrent_color\u001b[0m\u001b[1;33m)\u001b[0m\u001b[1;33m:\u001b[0m\u001b[1;33m\u001b[0m\u001b[0m\n\u001b[0;32m      2\u001b[0m     \u001b[0ms\u001b[0m \u001b[1;33m=\u001b[0m \u001b[0mcopy\u001b[0m\u001b[1;33m(\u001b[0m\u001b[0mb\u001b[0m\u001b[1;33m)\u001b[0m\u001b[1;33m.\u001b[0m\u001b[0mexecute_move\u001b[0m\u001b[1;33m(\u001b[0m\u001b[0mmove\u001b[0m\u001b[1;33m,\u001b[0m\u001b[0mcurrent_color\u001b[0m\u001b[1;33m)\u001b[0m\u001b[1;33m.\u001b[0m\u001b[0mtostring\u001b[0m\u001b[1;33m(\u001b[0m\u001b[1;33m)\u001b[0m\u001b[1;33m\u001b[0m\u001b[0m\n\u001b[1;32m----> 3\u001b[1;33m     \u001b[0mprint\u001b[0m\u001b[1;33m(\u001b[0m\u001b[0ms\u001b[0m\u001b[1;33m,\u001b[0m\u001b[0mQs\u001b[0m\u001b[1;33m[\u001b[0m\u001b[0ms\u001b[0m\u001b[1;33m]\u001b[0m\u001b[1;33m,\u001b[0m\u001b[0mNs\u001b[0m\u001b[1;33m[\u001b[0m\u001b[0ms\u001b[0m\u001b[1;33m]\u001b[0m\u001b[1;33m)\u001b[0m\u001b[1;33m\u001b[0m\u001b[0m\n\u001b[0m",
      "\u001b[1;31mKeyError\u001b[0m: '[[1 0 0 0 0 0 0 0 0]\\n [0 0 0 0 0 0 0 0 0]\\n [0 0 0 0 0 0 0 0 0]\\n [0 0 0 0 0 0 0 0 0]\\n [0 0 0 0 0 0 0 0 0]\\n [0 0 0 0 0 0 0 0 0]\\n [0 0 0 0 0 0 0 0 0]\\n [0 0 0 0 0 0 0 0 0]\\n [0 0 0 0 0 0 0 0 0]]'"
     ]
    }
   ],
   "source": [
    "for move in b.get_legal_moves(current_color):\n",
    "    s = copy(b).execute_move(move,current_color).tostring()\n",
    "    print(s,Qs[s],Ns[s])"
   ]
  },
  {
   "cell_type": "code",
   "execution_count": 235,
   "metadata": {},
   "outputs": [
    {
     "data": {
      "text/plain": [
       "-1"
      ]
     },
     "execution_count": 235,
     "metadata": {},
     "output_type": "execute_result"
    }
   ],
   "source": [
    "b.winner"
   ]
  },
  {
   "cell_type": "code",
   "execution_count": 106,
   "metadata": {},
   "outputs": [],
   "source": [
    "init_value=(\n",
    "    np.array([ -1,  14,  26,  -6,  -8,  -5,   2,  18,  12,  20,  -4,  14,  -1,\n",
    "        -5, -11,   6,  13,   7,   2,  12,   7,  -7,  20,  -5,  17,   1,\n",
    "         2,   6,  15,  12,  14,   2,  19,  -3,  10,   2,  -1,  -7,  -3,\n",
    "        14,  22,  24,  -3,  -2,  15, -14,   8,  -7,  16,   9,   1,  -6,\n",
    "         5, -16,  12,  -6,   9,  -9,  12,  17,  11,  15,   0,   9,  -8,\n",
    "        15,   4,  10,   9, -10,   5,  -3,   6,   9,   4,  -7,  -2, -11,\n",
    "        19, -10,  15])+\n",
    "    np.array([ 88,  97,  76,  89,  47,  43,  95,  27,  64, 118, 108,  56,  53,\n",
    "        28,  78,  82,  69,  89,  95,  61, 115, -23,  11,  35,  77, 100,\n",
    "        45,  25,  41, -19, 113,  55, 128,  79,  18,  19,  71,  45, -54,\n",
    "       103, 123, 123,  23,   1,  49, -14,  -2,  47, 157,  80, 109, -11,\n",
    "        38,   8, 128,  41,  74,  29,  36,   3, 103, 107,  97,  37,  74,\n",
    "        55,  22,   8,  80,  53,  70,  88,  60,  87, 118,  50,  51,  -1,\n",
    "        79,  73,  93])+\n",
    "    np.array([ 64,  68,  70,  20,  87,  24,  36,  85, 118,  39,  99, 101,  44,\n",
    "       -35,  19, 105, 106, 135,  88,  69, 122,  39,  63, -14,  83,  72,\n",
    "        73,  15,  86,  84, 146,  73,  75, -23, 114,  59,  49,  36,  25,\n",
    "        67, 204,  63,  80,   6,  61,  52, -13, -11, 111, 162,  88,  24,\n",
    "        31,  20,  45,  14,  28, -22,  10,  88,  66,  47,  -2,  35,  88,\n",
    "       123,  25,  20,  18,  29,  61,  42, 110,  66,  45,  10,  66,  -6,\n",
    "       -13,  66,  44])\n",
    ").reshape(9,9)"
   ]
  },
  {
   "cell_type": "code",
   "execution_count": 107,
   "metadata": {},
   "outputs": [],
   "source": [
    "init_symmetrized=np.zeros((9,9),dtype=np.int32)\n",
    "for i in range(1,5):\n",
    "    init_symmetrized+=np.rot90(init_value,i)\n",
    "    init_symmetrized+=np.rot90(np.fliplr(init_value),i)"
   ]
  },
  {
   "cell_type": "code",
   "execution_count": 109,
   "metadata": {},
   "outputs": [
    {
     "data": {
      "text/plain": [
       "40"
      ]
     },
     "execution_count": 109,
     "metadata": {},
     "output_type": "execute_result"
    }
   ],
   "source": [
    "init_symmetrized.reshape(-1).argmax()"
   ]
  },
  {
   "cell_type": "code",
   "execution_count": 29,
   "metadata": {},
   "outputs": [],
   "source": [
    "def one_search(board,color):\n",
    "    b=copy(board)\n",
    "    current_color=copy(color)\n",
    "    while not b.finished:\n",
    "        move=randchoice(b.get_legal_moves(current_color))\n",
    "    #         print(move+1)\n",
    "        b.execute_move(move,current_color)\n",
    "        current_color*=-1\n",
    "    return b.winner"
   ]
  },
  {
   "cell_type": "code",
   "execution_count": 51,
   "metadata": {},
   "outputs": [
    {
     "data": {
      "text/plain": [
       "2"
      ]
     },
     "execution_count": 51,
     "metadata": {},
     "output_type": "execute_result"
    }
   ],
   "source": [
    "np.array([1,2,3]).argmax()"
   ]
  },
  {
   "cell_type": "code",
   "execution_count": 47,
   "metadata": {},
   "outputs": [
    {
     "name": "stdout",
     "output_type": "stream",
     "text": [
      "576\n",
      "time cost 54.88543772697449 s\n"
     ]
    }
   ],
   "source": [
    "import time\n",
    "\n",
    "time_start=time.time()\n",
    "print(sum([one_search(b,current_color) for i in range(10000)]))\n",
    "time_end=time.time()\n",
    "print('time cost',time_end-time_start,'s')"
   ]
  },
  {
   "cell_type": "code",
   "execution_count": 24,
   "metadata": {},
   "outputs": [
    {
     "data": {
      "text/plain": [
       "array([[ 1,  1, -1,  0,  1, -1, -1,  1,  1],\n",
       "       [-1, -1,  1,  1, -1, -1,  1, -1,  1],\n",
       "       [ 1, -1,  1, -1, -1, -1,  1,  1, -1],\n",
       "       [-1,  0,  1,  1,  0,  1,  0,  1, -1],\n",
       "       [-1, -1,  1,  0,  0,  1,  1, -1, -1],\n",
       "       [ 0, -1, -1,  0,  0,  1,  1,  1, -1],\n",
       "       [-1,  1, -1, -1, -1,  1, -1,  1, -1],\n",
       "       [-1,  0,  1, -1, -1, -1,  1, -1, -1],\n",
       "       [-1,  1, -1,  1,  1,  1,  1,  1,  1]], dtype=int8)"
      ]
     },
     "execution_count": 24,
     "metadata": {},
     "output_type": "execute_result"
    }
   ],
   "source": [
    "b.pieces"
   ]
  },
  {
   "cell_type": "code",
   "execution_count": 25,
   "metadata": {},
   "outputs": [
    {
     "data": {
      "text/plain": [
       "array([[0, 0, 0, 0, 0, 0, 0, 0, 0],\n",
       "       [0, 0, 0, 0, 0, 0, 0, 0, 0],\n",
       "       [0, 0, 0, 0, 0, 0, 0, 0, 0],\n",
       "       [0, 0, 0, 0, 0, 0, 0, 0, 0],\n",
       "       [0, 0, 0, 0, 0, 0, 0, 0, 0],\n",
       "       [0, 0, 0, 0, 0, 0, 0, 0, 0],\n",
       "       [0, 0, 0, 0, 0, 0, 0, 0, 0],\n",
       "       [0, 0, 0, 0, 0, 0, 0, 0, 0],\n",
       "       [0, 0, 0, 0, 0, 0, 0, 0, 0]], dtype=int8)"
      ]
     },
     "execution_count": 25,
     "metadata": {},
     "output_type": "execute_result"
    }
   ],
   "source": [
    "b1.pieces"
   ]
  },
  {
   "cell_type": "code",
   "execution_count": 10,
   "metadata": {
    "scrolled": true
   },
   "outputs": [
    {
     "name": "stdout",
     "output_type": "stream",
     "text": [
      "True 1\n",
      "True 1\n",
      "True -1\n",
      "True -1\n",
      "True -1\n",
      "True -1\n",
      "True 1\n",
      "True 1\n",
      "True 0\n",
      "True -1\n",
      "True 1\n",
      "True -1\n",
      "True -1\n",
      "True 1\n",
      "True 1\n",
      "True 0\n",
      "True 0\n",
      "True 1\n",
      "True -1\n",
      "True 0\n",
      "True 1\n",
      "True 0\n",
      "True 1\n",
      "True 1\n",
      "True -1\n",
      "True 0\n",
      "True 1\n",
      "True 1\n",
      "True -1\n",
      "True 1\n",
      "True 0\n",
      "True 1\n",
      "True -1\n",
      "True 1\n",
      "True -1\n",
      "True -1\n",
      "True -1\n",
      "True 0\n",
      "True -1\n",
      "True -1\n",
      "True 0\n",
      "True 1\n",
      "True 0\n",
      "True 1\n",
      "True 1\n",
      "True 1\n",
      "True 0\n",
      "True -1\n",
      "True 1\n",
      "True -1\n",
      "True -1\n",
      "True -1\n",
      "True -1\n",
      "True 1\n",
      "True 0\n",
      "True 1\n",
      "True -1\n",
      "True 1\n",
      "True 0\n",
      "True 0\n",
      "True -1\n",
      "True -1\n",
      "True -1\n",
      "True 1\n",
      "True -1\n",
      "True 0\n",
      "True 0\n",
      "True -1\n",
      "True 1\n",
      "True 1\n",
      "True 1\n",
      "True -1\n",
      "True 0\n",
      "True 0\n",
      "True -1\n",
      "True 1\n",
      "True -1\n",
      "True -1\n",
      "True 1\n",
      "True 1\n",
      "True -1\n",
      "True 1\n",
      "True -1\n",
      "True 1\n",
      "True -1\n",
      "True 0\n",
      "True -1\n",
      "True 0\n",
      "True 1\n",
      "True 1\n",
      "True -1\n",
      "True -1\n",
      "True 1\n",
      "True -1\n",
      "True -1\n",
      "True -1\n",
      "True 1\n",
      "True 1\n",
      "True 0\n",
      "True -1\n",
      "time cost 0.5495250225067139 s\n"
     ]
    }
   ],
   "source": [
    "import time\n",
    "\n",
    "time_start=time.time()\n",
    "for i in range(100):\n",
    "    b=Board(9)\n",
    "    current_color=1\n",
    "    while not b.finished:\n",
    "        move=randchoice(b.get_legal_moves(current_color))\n",
    "#         print(move+1)\n",
    "        b.execute_move(move,current_color)\n",
    "        current_color*=-1\n",
    "    print(b.finished,b.winner)\n",
    "time_end=time.time()\n",
    "print('time cost',time_end-time_start,'s')"
   ]
  },
  {
   "cell_type": "code",
   "execution_count": 4,
   "metadata": {},
   "outputs": [
    {
     "data": {
      "text/plain": [
       "(True, -1)"
      ]
     },
     "execution_count": 4,
     "metadata": {},
     "output_type": "execute_result"
    }
   ],
   "source": [
    "(b.finished,b.winner)"
   ]
  },
  {
   "cell_type": "code",
   "execution_count": 5,
   "metadata": {},
   "outputs": [
    {
     "data": {
      "text/plain": [
       "array([[1, 1, 1],\n",
       "       [1, 1, 1],\n",
       "       [0, 0, 1]], dtype=int8)"
      ]
     },
     "execution_count": 5,
     "metadata": {},
     "output_type": "execute_result"
    }
   ],
   "source": [
    "b.main_pieces_finished"
   ]
  },
  {
   "cell_type": "code",
   "execution_count": 6,
   "metadata": {
    "scrolled": true
   },
   "outputs": [
    {
     "data": {
      "text/plain": [
       "array([[ 0,  0, -1,  1,  0, -1,  1,  0,  1],\n",
       "       [ 0,  1, -1,  0,  1,  0,  1,  1,  1],\n",
       "       [ 0,  0, -1,  0,  0,  1, -1,  1,  0],\n",
       "       [-1, -1, -1, -1,  0,  0,  0,  0, -1],\n",
       "       [ 0,  0,  0,  1, -1,  1,  1,  0, -1],\n",
       "       [ 1, -1, -1,  1,  0, -1,  1,  0, -1],\n",
       "       [-1,  0, -1,  1, -1, -1,  1,  0,  0],\n",
       "       [ 1,  0,  0, -1,  0,  0,  1,  0,  0],\n",
       "       [-1,  1, -1,  0,  1,  0,  1, -1,  1]], dtype=int8)"
      ]
     },
     "execution_count": 6,
     "metadata": {},
     "output_type": "execute_result"
    }
   ],
   "source": [
    "b.pieces"
   ]
  },
  {
   "cell_type": "code",
   "execution_count": 7,
   "metadata": {},
   "outputs": [
    {
     "data": {
      "text/plain": [
       "array([[-1,  1,  1],\n",
       "       [-1, -1, -1],\n",
       "       [ 0,  0,  1]], dtype=int8)"
      ]
     },
     "execution_count": 7,
     "metadata": {},
     "output_type": "execute_result"
    }
   ],
   "source": [
    "b.main_pieces"
   ]
  },
  {
   "cell_type": "code",
   "execution_count": 10,
   "metadata": {},
   "outputs": [
    {
     "data": {
      "text/plain": [
       "array([2, 2], dtype=int64)"
      ]
     },
     "execution_count": 10,
     "metadata": {},
     "output_type": "execute_result"
    }
   ],
   "source": [
    "randchoice(b.get_legal_moves(current_color))"
   ]
  },
  {
   "cell_type": "code",
   "execution_count": 11,
   "metadata": {},
   "outputs": [
    {
     "data": {
      "text/plain": [
       "array([[2, 1],\n",
       "       [2, 2]], dtype=int64)"
      ]
     },
     "execution_count": 11,
     "metadata": {},
     "output_type": "execute_result"
    }
   ],
   "source": [
    "b.get_legal_moves(current_color)"
   ]
  },
  {
   "cell_type": "code",
   "execution_count": 241,
   "metadata": {},
   "outputs": [],
   "source": [
    "import pickle\n",
    "class test():\n",
    "    def __init__(self):\n",
    "        self.value=1\n",
    "    def tostring(self):\n",
    "        return pickle.dumps(self)"
   ]
  },
  {
   "cell_type": "code",
   "execution_count": 242,
   "metadata": {},
   "outputs": [],
   "source": [
    "t=test()"
   ]
  },
  {
   "cell_type": "code",
   "execution_count": 245,
   "metadata": {},
   "outputs": [],
   "source": [
    "t2=pickle.loads(t.tostring())"
   ]
  },
  {
   "cell_type": "code",
   "execution_count": 246,
   "metadata": {},
   "outputs": [
    {
     "data": {
      "text/plain": [
       "1"
      ]
     },
     "execution_count": 246,
     "metadata": {},
     "output_type": "execute_result"
    }
   ],
   "source": [
    "t2.value"
   ]
  },
  {
   "cell_type": "code",
   "execution_count": null,
   "metadata": {},
   "outputs": [],
   "source": []
  }
 ],
 "metadata": {
  "kernelspec": {
   "display_name": "Python 3",
   "language": "python",
   "name": "python3"
  },
  "language_info": {
   "codemirror_mode": {
    "name": "ipython",
    "version": 3
   },
   "file_extension": ".py",
   "mimetype": "text/x-python",
   "name": "python",
   "nbconvert_exporter": "python",
   "pygments_lexer": "ipython3",
   "version": "3.6.5"
  }
 },
 "nbformat": 4,
 "nbformat_minor": 2
}
