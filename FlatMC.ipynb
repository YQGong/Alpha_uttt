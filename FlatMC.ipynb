{
 "cells": [
  {
   "cell_type": "code",
   "execution_count": 1,
   "metadata": {},
   "outputs": [],
   "source": [
    "from Game.GameLogic import Board\n",
    "from random import choice as randchoice\n",
    "import numpy as np\n",
    "from copy import deepcopy as copy\n",
    "from tqdm import tqdm_notebook as tqdm\n",
    "import pickle"
   ]
  },
  {
   "cell_type": "code",
   "execution_count": 2,
   "metadata": {},
   "outputs": [],
   "source": [
    "def one_search(board,color):\n",
    "    b=copy(board)\n",
    "    current_color=copy(color)\n",
    "    while not b.finished:\n",
    "        move=randchoice(b.get_legal_moves(current_color))\n",
    "    #         print(move+1)\n",
    "        b.execute_move(move,current_color)\n",
    "        current_color*=-1\n",
    "    return b.winner\n",
    "\n",
    "def search_one_move(board,move,color,times):\n",
    "    b=copy(board)\n",
    "    current_color=copy(color)\n",
    "    b.execute_move(move,current_color)\n",
    "    return sum([one_search(b,-current_color) for i in range(times)])\n",
    "\n",
    "def search_next(board,color,times):\n",
    "    time_start=time.time()\n",
    "    moves=board.get_legal_moves(color)\n",
    "    times_each=times//len(moves)\n",
    "    print('search {} times for each move.'.format(times_each))\n",
    "    move_value=[None]*len(moves)\n",
    "    for i in tqdm(range(len(moves))):\n",
    "        move_value[i]=search_one_move(board,moves[i],color,times_each)\n",
    "    time_end=time.time()\n",
    "    print('time cost',time_end-time_start,'s')\n",
    "    return np.array(move_value)"
   ]
  },
  {
   "cell_type": "code",
   "execution_count": 3,
   "metadata": {},
   "outputs": [],
   "source": [
    "b=Board(9)\n",
    "current_color=1"
   ]
  },
  {
   "cell_type": "code",
   "execution_count": 4,
   "metadata": {},
   "outputs": [
    {
     "data": {
      "text/plain": [
       "b'\\x80\\x03cGame.GameLogic\\nBoard\\nq\\x00)\\x81q\\x01}q\\x02(X\\x06\\x00\\x00\\x00piecesq\\x03cnumpy.core.multiarray\\n_reconstruct\\nq\\x04cnumpy\\nndarray\\nq\\x05K\\x00\\x85q\\x06C\\x01bq\\x07\\x87q\\x08Rq\\t(K\\x01K\\tK\\t\\x86q\\ncnumpy\\ndtype\\nq\\x0bX\\x02\\x00\\x00\\x00i1q\\x0cK\\x00K\\x01\\x87q\\rRq\\x0e(K\\x03X\\x01\\x00\\x00\\x00|q\\x0fNNNJ\\xff\\xff\\xff\\xffJ\\xff\\xff\\xff\\xffK\\x00tq\\x10b\\x89CQ\\x00\\x00\\x00\\x00\\x00\\x00\\x00\\x00\\x00\\x00\\x00\\x00\\x00\\x00\\x00\\x00\\x00\\x00\\x00\\x00\\x00\\x00\\x00\\x00\\x00\\x00\\x00\\x00\\x00\\x00\\x00\\x00\\x00\\x00\\x00\\x00\\x00\\x00\\x00\\x00\\x00\\x00\\x00\\x00\\x00\\x00\\x00\\x00\\x00\\x00\\x00\\x00\\x00\\x00\\x00\\x00\\x00\\x00\\x00\\x00\\x00\\x00\\x00\\x00\\x00\\x00\\x00\\x00\\x00\\x00\\x00\\x00\\x00\\x00\\x00\\x00\\x00\\x00\\x00\\x00\\x00q\\x11tq\\x12bX\\x0b\\x00\\x00\\x00main_piecesq\\x13h\\x04h\\x05K\\x00\\x85q\\x14h\\x07\\x87q\\x15Rq\\x16(K\\x01K\\x03K\\x03\\x86q\\x17h\\x0e\\x89C\\t\\x00\\x00\\x00\\x00\\x00\\x00\\x00\\x00\\x00q\\x18tq\\x19bX\\x14\\x00\\x00\\x00main_pieces_finishedq\\x1ah\\x04h\\x05K\\x00\\x85q\\x1bh\\x07\\x87q\\x1cRq\\x1d(K\\x01K\\x03K\\x03\\x86q\\x1eh\\x0e\\x89C\\t\\x00\\x00\\x00\\x00\\x00\\x00\\x00\\x00\\x00q\\x1ftq bX\\t\\x00\\x00\\x00last_moveq!NX\\x0f\\x00\\x00\\x00activation_zoneq\"NX\\x08\\x00\\x00\\x00finishedq#\\x89X\\x06\\x00\\x00\\x00winnerq$K\\x00ub.'"
      ]
     },
     "execution_count": 4,
     "metadata": {},
     "output_type": "execute_result"
    }
   ],
   "source": [
    "b.tostring()"
   ]
  },
  {
   "cell_type": "code",
   "execution_count": 230,
   "metadata": {},
   "outputs": [
    {
     "name": "stdout",
     "output_type": "stream",
     "text": [
      "value : -0.40495\n",
      "[7 7]\n"
     ]
    }
   ],
   "source": [
    "print('value : {}'.format(np.array(move_value).sum()/20000))\n",
    "next_move=b.get_legal_moves(current_color)[np.array(move_value).argmax()]\n",
    "print(next_move+1)"
   ]
  },
  {
   "cell_type": "code",
   "execution_count": 231,
   "metadata": {},
   "outputs": [],
   "source": [
    "b.execute_move(next_move,current_color)\n",
    "current_color*=-1"
   ]
  },
  {
   "cell_type": "code",
   "execution_count": 232,
   "metadata": {},
   "outputs": [],
   "source": [
    "b.execute_move(np.array([2,5])-1,current_color)\n",
    "current_color*=-1"
   ]
  },
  {
   "cell_type": "code",
   "execution_count": 233,
   "metadata": {},
   "outputs": [
    {
     "data": {
      "text/plain": [
       "array([[ 0,  0,  1, -1,  1,  1,  1, -1,  0],\n",
       "       [-1,  1,  0,  1, -1,  0,  0,  1,  0],\n",
       "       [ 1,  0,  0,  0,  0, -1,  0, -1,  0],\n",
       "       [ 0,  0, -1, -1,  0,  0,  0, -1,  0],\n",
       "       [ 1,  0, -1, -1,  1,  0,  0,  0,  1],\n",
       "       [-1,  1, -1, -1,  0,  0,  0,  1,  0],\n",
       "       [-1, -1,  0,  0,  0, -1,  1,  0,  0],\n",
       "       [ 1,  0,  0,  0,  0, -1,  1,  1,  0],\n",
       "       [ 1,  0, -1,  0,  1, -1,  1,  0,  0]], dtype=int8)"
      ]
     },
     "execution_count": 233,
     "metadata": {},
     "output_type": "execute_result"
    }
   ],
   "source": [
    "b.pieces"
   ]
  },
  {
   "cell_type": "code",
   "execution_count": 229,
   "metadata": {},
   "outputs": [
    {
     "name": "stdout",
     "output_type": "stream",
     "text": [
      "search 3333 times for each move.\n"
     ]
    },
    {
     "data": {
      "application/vnd.jupyter.widget-view+json": {
       "model_id": "db083df90bad445badf46a6a451f5ac5",
       "version_major": 2,
       "version_minor": 0
      },
      "text/plain": [
       "HBox(children=(IntProgress(value=0, max=6), HTML(value='')))"
      ]
     },
     "metadata": {},
     "output_type": "display_data"
    },
    {
     "name": "stdout",
     "output_type": "stream",
     "text": [
      "time cost 25.13786292076111 s\n"
     ]
    }
   ],
   "source": [
    "move_value=search_next(b,current_color,20000)"
   ]
  },
  {
   "cell_type": "code",
   "execution_count": 235,
   "metadata": {},
   "outputs": [
    {
     "data": {
      "text/plain": [
       "-1"
      ]
     },
     "execution_count": 235,
     "metadata": {},
     "output_type": "execute_result"
    }
   ],
   "source": [
    "b.winner"
   ]
  },
  {
   "cell_type": "code",
   "execution_count": 106,
   "metadata": {},
   "outputs": [],
   "source": [
    "init_value=(\n",
    "    np.array([ -1,  14,  26,  -6,  -8,  -5,   2,  18,  12,  20,  -4,  14,  -1,\n",
    "        -5, -11,   6,  13,   7,   2,  12,   7,  -7,  20,  -5,  17,   1,\n",
    "         2,   6,  15,  12,  14,   2,  19,  -3,  10,   2,  -1,  -7,  -3,\n",
    "        14,  22,  24,  -3,  -2,  15, -14,   8,  -7,  16,   9,   1,  -6,\n",
    "         5, -16,  12,  -6,   9,  -9,  12,  17,  11,  15,   0,   9,  -8,\n",
    "        15,   4,  10,   9, -10,   5,  -3,   6,   9,   4,  -7,  -2, -11,\n",
    "        19, -10,  15])+\n",
    "    np.array([ 88,  97,  76,  89,  47,  43,  95,  27,  64, 118, 108,  56,  53,\n",
    "        28,  78,  82,  69,  89,  95,  61, 115, -23,  11,  35,  77, 100,\n",
    "        45,  25,  41, -19, 113,  55, 128,  79,  18,  19,  71,  45, -54,\n",
    "       103, 123, 123,  23,   1,  49, -14,  -2,  47, 157,  80, 109, -11,\n",
    "        38,   8, 128,  41,  74,  29,  36,   3, 103, 107,  97,  37,  74,\n",
    "        55,  22,   8,  80,  53,  70,  88,  60,  87, 118,  50,  51,  -1,\n",
    "        79,  73,  93])+\n",
    "    np.array([ 64,  68,  70,  20,  87,  24,  36,  85, 118,  39,  99, 101,  44,\n",
    "       -35,  19, 105, 106, 135,  88,  69, 122,  39,  63, -14,  83,  72,\n",
    "        73,  15,  86,  84, 146,  73,  75, -23, 114,  59,  49,  36,  25,\n",
    "        67, 204,  63,  80,   6,  61,  52, -13, -11, 111, 162,  88,  24,\n",
    "        31,  20,  45,  14,  28, -22,  10,  88,  66,  47,  -2,  35,  88,\n",
    "       123,  25,  20,  18,  29,  61,  42, 110,  66,  45,  10,  66,  -6,\n",
    "       -13,  66,  44])\n",
    ").reshape(9,9)"
   ]
  },
  {
   "cell_type": "code",
   "execution_count": 107,
   "metadata": {},
   "outputs": [],
   "source": [
    "init_symmetrized=np.zeros((9,9),dtype=np.int32)\n",
    "for i in range(1,5):\n",
    "    init_symmetrized+=np.rot90(init_value,i)\n",
    "    init_symmetrized+=np.rot90(np.fliplr(init_value),i)"
   ]
  },
  {
   "cell_type": "code",
   "execution_count": 109,
   "metadata": {},
   "outputs": [
    {
     "data": {
      "text/plain": [
       "40"
      ]
     },
     "execution_count": 109,
     "metadata": {},
     "output_type": "execute_result"
    }
   ],
   "source": [
    "init_symmetrized.reshape(-1).argmax()"
   ]
  },
  {
   "cell_type": "code",
   "execution_count": 29,
   "metadata": {},
   "outputs": [],
   "source": [
    "def one_search(board,color):\n",
    "    b=copy(board)\n",
    "    current_color=copy(color)\n",
    "    while not b.finished:\n",
    "        move=randchoice(b.get_legal_moves(current_color))\n",
    "    #         print(move+1)\n",
    "        b.execute_move(move,current_color)\n",
    "        current_color*=-1\n",
    "    return b.winner"
   ]
  },
  {
   "cell_type": "code",
   "execution_count": 51,
   "metadata": {},
   "outputs": [
    {
     "data": {
      "text/plain": [
       "2"
      ]
     },
     "execution_count": 51,
     "metadata": {},
     "output_type": "execute_result"
    }
   ],
   "source": [
    "np.array([1,2,3]).argmax()"
   ]
  },
  {
   "cell_type": "code",
   "execution_count": 47,
   "metadata": {},
   "outputs": [
    {
     "name": "stdout",
     "output_type": "stream",
     "text": [
      "576\n",
      "time cost 54.88543772697449 s\n"
     ]
    }
   ],
   "source": [
    "import time\n",
    "\n",
    "time_start=time.time()\n",
    "print(sum([one_search(b,current_color) for i in range(10000)]))\n",
    "time_end=time.time()\n",
    "print('time cost',time_end-time_start,'s')"
   ]
  },
  {
   "cell_type": "code",
   "execution_count": 24,
   "metadata": {},
   "outputs": [
    {
     "data": {
      "text/plain": [
       "array([[ 1,  1, -1,  0,  1, -1, -1,  1,  1],\n",
       "       [-1, -1,  1,  1, -1, -1,  1, -1,  1],\n",
       "       [ 1, -1,  1, -1, -1, -1,  1,  1, -1],\n",
       "       [-1,  0,  1,  1,  0,  1,  0,  1, -1],\n",
       "       [-1, -1,  1,  0,  0,  1,  1, -1, -1],\n",
       "       [ 0, -1, -1,  0,  0,  1,  1,  1, -1],\n",
       "       [-1,  1, -1, -1, -1,  1, -1,  1, -1],\n",
       "       [-1,  0,  1, -1, -1, -1,  1, -1, -1],\n",
       "       [-1,  1, -1,  1,  1,  1,  1,  1,  1]], dtype=int8)"
      ]
     },
     "execution_count": 24,
     "metadata": {},
     "output_type": "execute_result"
    }
   ],
   "source": [
    "b.pieces"
   ]
  },
  {
   "cell_type": "code",
   "execution_count": 25,
   "metadata": {},
   "outputs": [
    {
     "data": {
      "text/plain": [
       "array([[0, 0, 0, 0, 0, 0, 0, 0, 0],\n",
       "       [0, 0, 0, 0, 0, 0, 0, 0, 0],\n",
       "       [0, 0, 0, 0, 0, 0, 0, 0, 0],\n",
       "       [0, 0, 0, 0, 0, 0, 0, 0, 0],\n",
       "       [0, 0, 0, 0, 0, 0, 0, 0, 0],\n",
       "       [0, 0, 0, 0, 0, 0, 0, 0, 0],\n",
       "       [0, 0, 0, 0, 0, 0, 0, 0, 0],\n",
       "       [0, 0, 0, 0, 0, 0, 0, 0, 0],\n",
       "       [0, 0, 0, 0, 0, 0, 0, 0, 0]], dtype=int8)"
      ]
     },
     "execution_count": 25,
     "metadata": {},
     "output_type": "execute_result"
    }
   ],
   "source": [
    "b1.pieces"
   ]
  },
  {
   "cell_type": "code",
   "execution_count": 10,
   "metadata": {
    "scrolled": true
   },
   "outputs": [
    {
     "name": "stdout",
     "output_type": "stream",
     "text": [
      "True 1\n",
      "True 1\n",
      "True -1\n",
      "True -1\n",
      "True -1\n",
      "True -1\n",
      "True 1\n",
      "True 1\n",
      "True 0\n",
      "True -1\n",
      "True 1\n",
      "True -1\n",
      "True -1\n",
      "True 1\n",
      "True 1\n",
      "True 0\n",
      "True 0\n",
      "True 1\n",
      "True -1\n",
      "True 0\n",
      "True 1\n",
      "True 0\n",
      "True 1\n",
      "True 1\n",
      "True -1\n",
      "True 0\n",
      "True 1\n",
      "True 1\n",
      "True -1\n",
      "True 1\n",
      "True 0\n",
      "True 1\n",
      "True -1\n",
      "True 1\n",
      "True -1\n",
      "True -1\n",
      "True -1\n",
      "True 0\n",
      "True -1\n",
      "True -1\n",
      "True 0\n",
      "True 1\n",
      "True 0\n",
      "True 1\n",
      "True 1\n",
      "True 1\n",
      "True 0\n",
      "True -1\n",
      "True 1\n",
      "True -1\n",
      "True -1\n",
      "True -1\n",
      "True -1\n",
      "True 1\n",
      "True 0\n",
      "True 1\n",
      "True -1\n",
      "True 1\n",
      "True 0\n",
      "True 0\n",
      "True -1\n",
      "True -1\n",
      "True -1\n",
      "True 1\n",
      "True -1\n",
      "True 0\n",
      "True 0\n",
      "True -1\n",
      "True 1\n",
      "True 1\n",
      "True 1\n",
      "True -1\n",
      "True 0\n",
      "True 0\n",
      "True -1\n",
      "True 1\n",
      "True -1\n",
      "True -1\n",
      "True 1\n",
      "True 1\n",
      "True -1\n",
      "True 1\n",
      "True -1\n",
      "True 1\n",
      "True -1\n",
      "True 0\n",
      "True -1\n",
      "True 0\n",
      "True 1\n",
      "True 1\n",
      "True -1\n",
      "True -1\n",
      "True 1\n",
      "True -1\n",
      "True -1\n",
      "True -1\n",
      "True 1\n",
      "True 1\n",
      "True 0\n",
      "True -1\n",
      "time cost 0.5495250225067139 s\n"
     ]
    }
   ],
   "source": [
    "import time\n",
    "\n",
    "time_start=time.time()\n",
    "for i in range(100):\n",
    "    b=Board(9)\n",
    "    current_color=1\n",
    "    while not b.finished:\n",
    "        move=randchoice(b.get_legal_moves(current_color))\n",
    "#         print(move+1)\n",
    "        b.execute_move(move,current_color)\n",
    "        current_color*=-1\n",
    "    print(b.finished,b.winner)\n",
    "time_end=time.time()\n",
    "print('time cost',time_end-time_start,'s')"
   ]
  },
  {
   "cell_type": "code",
   "execution_count": 4,
   "metadata": {},
   "outputs": [
    {
     "data": {
      "text/plain": [
       "(True, -1)"
      ]
     },
     "execution_count": 4,
     "metadata": {},
     "output_type": "execute_result"
    }
   ],
   "source": [
    "(b.finished,b.winner)"
   ]
  },
  {
   "cell_type": "code",
   "execution_count": 5,
   "metadata": {},
   "outputs": [
    {
     "data": {
      "text/plain": [
       "array([[1, 1, 1],\n",
       "       [1, 1, 1],\n",
       "       [0, 0, 1]], dtype=int8)"
      ]
     },
     "execution_count": 5,
     "metadata": {},
     "output_type": "execute_result"
    }
   ],
   "source": [
    "b.main_pieces_finished"
   ]
  },
  {
   "cell_type": "code",
   "execution_count": 6,
   "metadata": {
    "scrolled": true
   },
   "outputs": [
    {
     "data": {
      "text/plain": [
       "array([[ 0,  0, -1,  1,  0, -1,  1,  0,  1],\n",
       "       [ 0,  1, -1,  0,  1,  0,  1,  1,  1],\n",
       "       [ 0,  0, -1,  0,  0,  1, -1,  1,  0],\n",
       "       [-1, -1, -1, -1,  0,  0,  0,  0, -1],\n",
       "       [ 0,  0,  0,  1, -1,  1,  1,  0, -1],\n",
       "       [ 1, -1, -1,  1,  0, -1,  1,  0, -1],\n",
       "       [-1,  0, -1,  1, -1, -1,  1,  0,  0],\n",
       "       [ 1,  0,  0, -1,  0,  0,  1,  0,  0],\n",
       "       [-1,  1, -1,  0,  1,  0,  1, -1,  1]], dtype=int8)"
      ]
     },
     "execution_count": 6,
     "metadata": {},
     "output_type": "execute_result"
    }
   ],
   "source": [
    "b.pieces"
   ]
  },
  {
   "cell_type": "code",
   "execution_count": 7,
   "metadata": {},
   "outputs": [
    {
     "data": {
      "text/plain": [
       "array([[-1,  1,  1],\n",
       "       [-1, -1, -1],\n",
       "       [ 0,  0,  1]], dtype=int8)"
      ]
     },
     "execution_count": 7,
     "metadata": {},
     "output_type": "execute_result"
    }
   ],
   "source": [
    "b.main_pieces"
   ]
  },
  {
   "cell_type": "code",
   "execution_count": 10,
   "metadata": {},
   "outputs": [
    {
     "data": {
      "text/plain": [
       "array([2, 2], dtype=int64)"
      ]
     },
     "execution_count": 10,
     "metadata": {},
     "output_type": "execute_result"
    }
   ],
   "source": [
    "randchoice(b.get_legal_moves(current_color))"
   ]
  },
  {
   "cell_type": "code",
   "execution_count": 11,
   "metadata": {},
   "outputs": [
    {
     "data": {
      "text/plain": [
       "array([[2, 1],\n",
       "       [2, 2]], dtype=int64)"
      ]
     },
     "execution_count": 11,
     "metadata": {},
     "output_type": "execute_result"
    }
   ],
   "source": [
    "b.get_legal_moves(current_color)"
   ]
  },
  {
   "cell_type": "code",
   "execution_count": 241,
   "metadata": {},
   "outputs": [],
   "source": [
    "import pickle\n",
    "class test():\n",
    "    def __init__(self):\n",
    "        self.value=1\n",
    "    def tostring(self):\n",
    "        return pickle.dumps(self)"
   ]
  },
  {
   "cell_type": "code",
   "execution_count": 242,
   "metadata": {},
   "outputs": [],
   "source": [
    "t=test()"
   ]
  },
  {
   "cell_type": "code",
   "execution_count": 245,
   "metadata": {},
   "outputs": [],
   "source": [
    "t2=pickle.loads(t.tostring())"
   ]
  },
  {
   "cell_type": "code",
   "execution_count": 246,
   "metadata": {},
   "outputs": [
    {
     "data": {
      "text/plain": [
       "1"
      ]
     },
     "execution_count": 246,
     "metadata": {},
     "output_type": "execute_result"
    }
   ],
   "source": [
    "t2.value"
   ]
  },
  {
   "cell_type": "code",
   "execution_count": null,
   "metadata": {},
   "outputs": [],
   "source": []
  }
 ],
 "metadata": {
  "kernelspec": {
   "display_name": "Python 3",
   "language": "python",
   "name": "python3"
  },
  "language_info": {
   "codemirror_mode": {
    "name": "ipython",
    "version": 3
   },
   "file_extension": ".py",
   "mimetype": "text/x-python",
   "name": "python",
   "nbconvert_exporter": "python",
   "pygments_lexer": "ipython3",
   "version": "3.6.5"
  }
 },
 "nbformat": 4,
 "nbformat_minor": 2
}
