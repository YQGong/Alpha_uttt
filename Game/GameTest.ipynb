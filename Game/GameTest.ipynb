{
 "cells": [
  {
   "cell_type": "markdown",
   "metadata": {},
   "source": [
    "# MCTS part"
   ]
  },
  {
   "cell_type": "code",
   "execution_count": 168,
   "metadata": {},
   "outputs": [],
   "source": [
    "class dotdict(dict):\n",
    "    def __getattr__(self, name):\n",
    "        return self[name]\n",
    "args = dotdict({\n",
    "    'numIters': 1000,\n",
    "    'numEps': 100,\n",
    "    'tempThreshold': 15,\n",
    "    'updateThreshold': 0.55,\n",
    "    'maxlenOfQueue': 200000,\n",
    "    'numMCTSSims': 25,\n",
    "    'arenaCompare': 40,\n",
    "    'cpuct': 1,\n",
    "\n",
    "    'checkpoint': './temp/',\n",
    "    'load_model': True,\n",
    "    'load_folder_file': ('./temp/','checkpoint_5.pth.tar'),\n",
    "    'numItersForTrainExamplesHistory': 20,\n",
    "\n",
    "})\n",
    "\n",
    "class NNet():\n",
    "    def predict(canonicalBoard):\n",
    "        return np.ones([9,9])\n",
    "    \n",
    "class Game():\n",
    "    def getGameEnded\n",
    "    def stringRepresentation\n",
    "    def getActionSize\n",
    "    def getValidMoves"
   ]
  },
  {
   "cell_type": "code",
   "execution_count": 166,
   "metadata": {},
   "outputs": [],
   "source": [
    "nnet=NNet()\n",
    "mcts=MCTS(nnet,args)"
   ]
  },
  {
   "cell_type": "markdown",
   "metadata": {},
   "source": [
    "# GameLogic Part"
   ]
  },
  {
   "cell_type": "code",
   "execution_count": 134,
   "metadata": {},
   "outputs": [],
   "source": [
    "'''\n",
    "Author: Miaozha\n",
    "Date: 5 23, 2019.\n",
    "Board class.\n",
    "Board data:\n",
    "  1=cricle, -1=cross, 0=empty\n",
    "  first dim is column , 2nd is row:\n",
    "     pieces[1][7] is the square in column 2,\n",
    "     at the opposite end of the board in row 8.\n",
    "Squares are stored and manipulated as (x,y) tuples.\n",
    "x is the column, y is the row.\n",
    "'''\n",
    "import numpy as np\n",
    "class Board():\n",
    "\n",
    "    def __init__(self):\n",
    "        \"Set up initial board configuration.\"\n",
    "        self.pieces = np.zeros([9,9],dtype=np.int8)\n",
    "        self.main_pieces= np.zeros([3,3],dtype=np.int8)\n",
    "        self.main_pieces_finished= np.zeros([3,3],dtype=np.int8)\n",
    "        self.last_move=None\n",
    "        self.activation_zone=None\n",
    "        self.finished=False\n",
    "        self.winner=0\n",
    "        \n",
    "    # add [][] indexer syntax to the Board\n",
    "    def __getitem__(self, index): \n",
    "        return self.pieces[index]\n",
    "\n",
    "    def countDiff(self, color):\n",
    "        \"\"\"Counts the # pieces of the given color\"\"\"\n",
    "        return np.sum(self.pieces)\n",
    "\n",
    "    def get_legal_moves(self, color):\n",
    "        \"\"\"Returns all the legal moves for the given color.\n",
    "        \"\"\"\n",
    "        moves = set()  # stores the legal moves.\n",
    "        \n",
    "        if self.activation_zone==None:\n",
    "            return np.where(self.pieces==0)\n",
    "        \n",
    "        sub_board=self.get_sub_board(self.activation_zone)\n",
    "        legal_indices_sub=np.where(sub_board==0)\n",
    "        return to_board_index(legal_indices_sub,self.activation_zone)\n",
    "\n",
    "    def has_legal_moves(self, color):\n",
    "        return not self.finished\n",
    "\n",
    "    def execute_move(self, move, color):\n",
    "        \"\"\"Perform the given move on the board; flips pieces as necessary.\n",
    "        color gives the color pf the piece to play \n",
    "        \"\"\"\n",
    "        # update board\n",
    "        x,y=move\n",
    "        self.pieces[x,y]=color\n",
    "        \n",
    "        self.last_move=[[x//3,y//3],[x%3,y%3]]\n",
    "        last_move_zone_x,last_move_zone_y=self.last_move[0]\n",
    "        last_move_sub_x,last_move_sub_y=self.last_move[1]\n",
    "        \n",
    "        # update the status of the current subboard to the main board\n",
    "        if sub_board_win(self.get_sub_board(self.last_move[0]),self.last_move[1]):\n",
    "            self.main_pieces[last_move_zone_x,last_move_zone_y]=color\n",
    "            self.main_pieces_finished=1\n",
    "            # check whether the current color wins:\n",
    "            if sub_board_win(self.main_pieces,self.last_move[0]):\n",
    "                self.finish=True\n",
    "                self.winner=color\n",
    "        elif len(np.where(self.get_sub_board(self.last_move[0]))[0])==0:\n",
    "            self.main_pieces_finished=1\n",
    "        \n",
    "        # update the new activation zone\n",
    "        if self.main_pieces_finished[last_move_sub_x,last_move_sub_y]==0:\n",
    "            self.activation_zone=self.last_move[1]\n",
    "        else:\n",
    "            self.activation_zone=None\n",
    "\n",
    "    def get_sub_board(self,move):\n",
    "        x,y=move\n",
    "        return self.pieces[3*x:3*x+3,3*y:3*y+3]\n",
    "\n",
    "    def to_board_index(index_at_sub_board,sub_board_index):\n",
    "        index_at_sub_board_x,index_at_sub_board_y=index_at_sub_board\n",
    "        sub_board_x,sub_board_y=sub_board_index\n",
    "        return np.asarray([index_at_sub_board_x+3*sub_board_x,index_at_sub_board_y+3*sub_board_y])\n",
    "\n",
    "    def fill_test_pattern(self):\n",
    "        for i in range(9):\n",
    "            for j in range(9):\n",
    "                next_move(self.pieces,i,j,i*10+j)\n",
    "\n",
    "    def sub_board_win(sub_board,last_move):\n",
    "        last_x,last_y=last_move\n",
    "        last_c=sub_board[last_x,last_y]\n",
    "        if len(set(sub_board[last_x]))==1:\n",
    "            return True\n",
    "        if len(set(sub_board[:,last_y]))==1:\n",
    "            return True\n",
    "        if last_x==last_y and len(set([sub_board[0,0],sub_board[1,1],sub_board[2,2]]))==1:\n",
    "            return True\n",
    "        if last_x+last_y==2 and len(set([sub_board[0,2],sub_board[1,1],sub_board[2,0]]))==1:\n",
    "            return True\n",
    "        return False"
   ]
  },
  {
   "cell_type": "code",
   "execution_count": 135,
   "metadata": {},
   "outputs": [],
   "source": [
    "b=Board()"
   ]
  },
  {
   "cell_type": "code",
   "execution_count": 156,
   "metadata": {},
   "outputs": [
    {
     "data": {
      "text/plain": [
       "array([[ 1, -1,  0,  0,  0,  1,  0,  0,  0],\n",
       "       [ 0,  0,  0,  0,  0,  0,  0,  0,  0],\n",
       "       [ 0,  0,  0,  0,  0,  0,  0,  0,  0],\n",
       "       [ 0,  0,  0,  0,  0,  0,  0,  0,  0],\n",
       "       [ 0,  0,  0,  0,  0,  0,  0,  0,  0],\n",
       "       [ 0,  0,  0,  0,  0,  0,  0,  0,  0],\n",
       "       [ 0,  0,  0,  0,  0,  0,  0,  0,  0],\n",
       "       [ 0,  0,  0,  0,  0,  0,  0,  0,  0],\n",
       "       [ 0,  0,  0,  0,  0,  0,  0,  0,  0]], dtype=int8)"
      ]
     },
     "execution_count": 156,
     "metadata": {},
     "output_type": "execute_result"
    }
   ],
   "source": [
    "b.pieces"
   ]
  },
  {
   "cell_type": "code",
   "execution_count": 157,
   "metadata": {},
   "outputs": [
    {
     "data": {
      "text/plain": [
       "1"
      ]
     },
     "execution_count": 157,
     "metadata": {},
     "output_type": "execute_result"
    }
   ],
   "source": [
    "b.countDiff(1)"
   ]
  },
  {
   "cell_type": "code",
   "execution_count": 158,
   "metadata": {},
   "outputs": [
    {
     "data": {
      "text/plain": [
       "array([[0, 0, 0, 1, 1, 1, 2, 2, 2],\n",
       "       [6, 7, 8, 6, 7, 8, 6, 7, 8]], dtype=int64)"
      ]
     },
     "execution_count": 158,
     "metadata": {},
     "output_type": "execute_result"
    }
   ],
   "source": [
    "b.get_legal_moves(1)"
   ]
  },
  {
   "cell_type": "code",
   "execution_count": 159,
   "metadata": {},
   "outputs": [
    {
     "data": {
      "text/plain": [
       "True"
      ]
     },
     "execution_count": 159,
     "metadata": {},
     "output_type": "execute_result"
    }
   ],
   "source": [
    "b.has_legal_moves(1)"
   ]
  },
  {
   "cell_type": "code",
   "execution_count": 160,
   "metadata": {},
   "outputs": [],
   "source": [
    "b.execute_move((0,5),1)"
   ]
  },
  {
   "cell_type": "code",
   "execution_count": 39,
   "metadata": {},
   "outputs": [],
   "source": [
    "# def init_board(board):\n",
    "#     board=np.zeros([9,9],dtype=np.int8)\n",
    "\n",
    "def next_move(board,move,c):\n",
    "    x,y=move\n",
    "    board[x,y]=c\n",
    "    return(x,y)\n",
    "\n",
    "def get_sub_board(board,move):\n",
    "    x,y=move\n",
    "    return board[3*x:3*x+3,3*y:3*y+3]\n",
    "\n",
    "def to_board_index(index_at_sub_board,sub_board_index):\n",
    "    index_at_sub_board_x,index_at_sub_board_y=index_at_sub_board\n",
    "    sub_board_x,sub_board_y=sub_board_index\n",
    "    return np.asarray([index_at_sub_board_x+3*sub_board_x,index_at_sub_board_y+3*sub_board_y])\n",
    "\n",
    "def fill_test_pattern(board):\n",
    "    for i in range(9):\n",
    "        for j in range(9):\n",
    "            next_move(board,i,j,i*10+j)\n",
    "            \n",
    "def sub_board_win(sub_board,last_move):\n",
    "    last_x,last_y=last_move\n",
    "    last_c=sub_board[last_x,last_y]\n",
    "    if len(set(sub_board[last_x]))==1:\n",
    "        return True\n",
    "    if len(set(sub_board[:,last_y]))==1:\n",
    "        return True\n",
    "    if last_x==last_y and len(set([sub_board[0,0],sub_board[1,1],sub_board[2,2]]))==1:\n",
    "        return True\n",
    "    if last_x+last_y==2 and len(set([sub_board[0,2],sub_board[1,1],sub_board[2,0]]))==1:\n",
    "        return True\n",
    "    return False"
   ]
  },
  {
   "cell_type": "code",
   "execution_count": 34,
   "metadata": {},
   "outputs": [],
   "source": [
    "board=np.zeros([9,9],dtype=np.int8)\n",
    "# fill_test_pattern(board)"
   ]
  },
  {
   "cell_type": "code",
   "execution_count": 27,
   "metadata": {},
   "outputs": [
    {
     "name": "stdout",
     "output_type": "stream",
     "text": [
      "[[ 0  1  2  3  4  5  6  7  8]\n",
      " [10 11 12 13 14 15 16 17 18]\n",
      " [20 21 22 23 24 25 26 27 28]\n",
      " [30 31 32 33 34 35 36 37 38]\n",
      " [40 41 42 43 44 45 46 47 48]\n",
      " [50 51 52 53 54 55 56 57 58]\n",
      " [60 61 62 63 64 65 66 67 68]\n",
      " [70 71 72 73 74 75 76 77 78]\n",
      " [80 81 82 83 84 85 86 87 88]]\n"
     ]
    }
   ],
   "source": [
    "print(board)"
   ]
  },
  {
   "cell_type": "code",
   "execution_count": 44,
   "metadata": {},
   "outputs": [
    {
     "data": {
      "text/plain": [
       "0"
      ]
     },
     "execution_count": 44,
     "metadata": {},
     "output_type": "execute_result"
    }
   ],
   "source": [
    "len(np.where(board!=0)[0])"
   ]
  },
  {
   "cell_type": "code",
   "execution_count": 37,
   "metadata": {},
   "outputs": [
    {
     "data": {
      "text/plain": [
       "array([[6, 6, 6, 7, 7, 7, 8, 8, 8],\n",
       "       [6, 7, 8, 6, 7, 8, 6, 7, 8]], dtype=int64)"
      ]
     },
     "execution_count": 37,
     "metadata": {},
     "output_type": "execute_result"
    }
   ],
   "source": [
    "to_board_index(np.where(get_sub_board(board,2,2)==0),2,2)"
   ]
  },
  {
   "cell_type": "code",
   "execution_count": 9,
   "metadata": {},
   "outputs": [],
   "source": [
    "subboard=np.zeros([3,3],dtype=np.int8)"
   ]
  },
  {
   "cell_type": "code",
   "execution_count": 13,
   "metadata": {},
   "outputs": [
    {
     "name": "stdout",
     "output_type": "stream",
     "text": [
      "[[0 0 0]\n",
      " [0 1 0]\n",
      " [0 0 0]]\n"
     ]
    }
   ],
   "source": [
    "print(subboard)"
   ]
  },
  {
   "cell_type": "code",
   "execution_count": 26,
   "metadata": {},
   "outputs": [
    {
     "name": "stdout",
     "output_type": "stream",
     "text": [
      "[[0 0 0]\n",
      " [0 0 0]\n",
      " [0 0 0]]\n",
      "0\n",
      "[[1 0 0]\n",
      " [0 0 0]\n",
      " [0 0 0]]\n",
      "0\n",
      "[[ 1  0  0]\n",
      " [ 0  0  0]\n",
      " [ 0  0 -1]]\n",
      "0\n",
      "[[ 1  0  1]\n",
      " [ 0  0  0]\n",
      " [ 0  0 -1]]\n",
      "0\n",
      "[[ 1 -1  1]\n",
      " [ 0  0  0]\n",
      " [ 0  0 -1]]\n",
      "0\n",
      "[[ 1 -1  1]\n",
      " [ 0  0  0]\n",
      " [ 1  0 -1]]\n",
      "0\n",
      "[[ 1 -1  1]\n",
      " [-1  0  0]\n",
      " [ 1  0 -1]]\n",
      "1\n",
      "[[ 1 -1  1]\n",
      " [-1  1  0]\n",
      " [ 1  0 -1]]\n"
     ]
    }
   ],
   "source": [
    "subboard=np.zeros([3,3],dtype=np.int8)\n",
    "print(subboard)\n",
    "print(sub_board_win(subboard,next_move(subboard,0,0,1)))\n",
    "print(subboard)\n",
    "print(sub_board_win(subboard,next_move(subboard,2,2,-1)))\n",
    "print(subboard)\n",
    "print(sub_board_win(subboard,next_move(subboard,0,2,1)))\n",
    "print(subboard)\n",
    "print(sub_board_win(subboard,next_move(subboard,0,1,-1)))\n",
    "print(subboard)\n",
    "print(sub_board_win(subboard,next_move(subboard,2,0,1)))\n",
    "print(subboard)\n",
    "print(sub_board_win(subboard,next_move(subboard,1,0,-1)))\n",
    "print(subboard)\n",
    "print(sub_board_win(subboard,next_move(subboard,1,1,1)))\n",
    "print(subboard)"
   ]
  },
  {
   "cell_type": "code",
   "execution_count": 17,
   "metadata": {},
   "outputs": [
    {
     "data": {
      "text/plain": [
       "0"
      ]
     },
     "execution_count": 17,
     "metadata": {},
     "output_type": "execute_result"
    }
   ],
   "source": [
    "sub_board_win(subboard,(1,1))"
   ]
  },
  {
   "cell_type": "code",
   "execution_count": null,
   "metadata": {},
   "outputs": [],
   "source": []
  }
 ],
 "metadata": {
  "kernelspec": {
   "display_name": "Python 3",
   "language": "python",
   "name": "python3"
  },
  "language_info": {
   "codemirror_mode": {
    "name": "ipython",
    "version": 3
   },
   "file_extension": ".py",
   "mimetype": "text/x-python",
   "name": "python",
   "nbconvert_exporter": "python",
   "pygments_lexer": "ipython3",
   "version": "3.6.5"
  }
 },
 "nbformat": 4,
 "nbformat_minor": 2
}
